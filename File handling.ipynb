{
 "cells": [
  {
   "cell_type": "code",
   "execution_count": 1,
   "id": "cabc7608",
   "metadata": {},
   "outputs": [],
   "source": [
    "l=[1,2,3,4,5,]"
   ]
  },
  {
   "cell_type": "code",
   "execution_count": 26,
   "id": "6f62e4d6",
   "metadata": {},
   "outputs": [],
   "source": [
    "l=l*2"
   ]
  },
  {
   "cell_type": "code",
   "execution_count": 27,
   "id": "a6f3b04e",
   "metadata": {},
   "outputs": [
    {
     "data": {
      "text/plain": [
       "[1, 2, 3, 4, 5, 1, 2, 3, 4, 5]"
      ]
     },
     "execution_count": 27,
     "metadata": {},
     "output_type": "execute_result"
    }
   ],
   "source": [
    "l"
   ]
  },
  {
   "cell_type": "raw",
   "id": "add0f0b3",
   "metadata": {},
   "source": [
    "read-\"r\"\n",
    "write-\"w\"\n",
    "append-\"a\"\n",
    "craete-\"x\""
   ]
  },
  {
   "cell_type": "code",
   "execution_count": 28,
   "id": "fb1da2ef",
   "metadata": {},
   "outputs": [
    {
     "ename": "SyntaxError",
     "evalue": "invalid syntax (3944215144.py, line 1)",
     "output_type": "error",
     "traceback": [
      "\u001b[1;36m  Cell \u001b[1;32mIn[28], line 1\u001b[1;36m\u001b[0m\n\u001b[1;33m    (\"abc.txt\",'r')-if availabel open or error\u001b[0m\n\u001b[1;37m                    ^\u001b[0m\n\u001b[1;31mSyntaxError\u001b[0m\u001b[1;31m:\u001b[0m invalid syntax\n"
     ]
    }
   ],
   "source": [
    "(\"abc.txt\",'r')-if availabel open or error\n",
    "(\"abc.txt\",'w')- if availabele open or create with the name given\n",
    "(\"abc.txt\",'a')-works same as write \n",
    "(\"abc.txt\",'x')-if availabel error or else create the file  \n"
   ]
  },
  {
   "cell_type": "code",
   "execution_count": null,
   "id": "02bca98d",
   "metadata": {},
   "outputs": [],
   "source": [
    "f= open(\"abc.txt\",'r')"
   ]
  },
  {
   "cell_type": "code",
   "execution_count": null,
   "id": "d46be339",
   "metadata": {},
   "outputs": [],
   "source": [
    "f"
   ]
  },
  {
   "cell_type": "code",
   "execution_count": null,
   "id": "b5522d31",
   "metadata": {},
   "outputs": [],
   "source": [
    "f1=open(\"abc1.txt\",'w')"
   ]
  },
  {
   "cell_type": "code",
   "execution_count": null,
   "id": "97617ae3",
   "metadata": {},
   "outputs": [],
   "source": [
    "f1"
   ]
  },
  {
   "cell_type": "raw",
   "id": "8b3ab92d",
   "metadata": {},
   "source": [
    "same goes for append"
   ]
  },
  {
   "cell_type": "code",
   "execution_count": 29,
   "id": "cc28fb7e",
   "metadata": {},
   "outputs": [
    {
     "ename": "FileExistsError",
     "evalue": "[Errno 17] File exists: 'abc2.txt'",
     "output_type": "error",
     "traceback": [
      "\u001b[1;31m---------------------------------------------------------------------------\u001b[0m",
      "\u001b[1;31mFileExistsError\u001b[0m                           Traceback (most recent call last)",
      "Cell \u001b[1;32mIn[29], line 1\u001b[0m\n\u001b[1;32m----> 1\u001b[0m f2\u001b[38;5;241m=\u001b[39m \u001b[38;5;28mopen\u001b[39m(\u001b[38;5;124m\"\u001b[39m\u001b[38;5;124mabc2.txt\u001b[39m\u001b[38;5;124m\"\u001b[39m,\u001b[38;5;124m'\u001b[39m\u001b[38;5;124mx\u001b[39m\u001b[38;5;124m'\u001b[39m)\n",
      "File \u001b[1;32m~\\anaconda3\\Lib\\site-packages\\IPython\\core\\interactiveshell.py:284\u001b[0m, in \u001b[0;36m_modified_open\u001b[1;34m(file, *args, **kwargs)\u001b[0m\n\u001b[0;32m    277\u001b[0m \u001b[38;5;28;01mif\u001b[39;00m file \u001b[38;5;129;01min\u001b[39;00m {\u001b[38;5;241m0\u001b[39m, \u001b[38;5;241m1\u001b[39m, \u001b[38;5;241m2\u001b[39m}:\n\u001b[0;32m    278\u001b[0m     \u001b[38;5;28;01mraise\u001b[39;00m \u001b[38;5;167;01mValueError\u001b[39;00m(\n\u001b[0;32m    279\u001b[0m         \u001b[38;5;124mf\u001b[39m\u001b[38;5;124m\"\u001b[39m\u001b[38;5;124mIPython won\u001b[39m\u001b[38;5;124m'\u001b[39m\u001b[38;5;124mt let you open fd=\u001b[39m\u001b[38;5;132;01m{\u001b[39;00mfile\u001b[38;5;132;01m}\u001b[39;00m\u001b[38;5;124m by default \u001b[39m\u001b[38;5;124m\"\u001b[39m\n\u001b[0;32m    280\u001b[0m         \u001b[38;5;124m\"\u001b[39m\u001b[38;5;124mas it is likely to crash IPython. If you know what you are doing, \u001b[39m\u001b[38;5;124m\"\u001b[39m\n\u001b[0;32m    281\u001b[0m         \u001b[38;5;124m\"\u001b[39m\u001b[38;5;124myou can use builtins\u001b[39m\u001b[38;5;124m'\u001b[39m\u001b[38;5;124m open.\u001b[39m\u001b[38;5;124m\"\u001b[39m\n\u001b[0;32m    282\u001b[0m     )\n\u001b[1;32m--> 284\u001b[0m \u001b[38;5;28;01mreturn\u001b[39;00m io_open(file, \u001b[38;5;241m*\u001b[39margs, \u001b[38;5;241m*\u001b[39m\u001b[38;5;241m*\u001b[39mkwargs)\n",
      "\u001b[1;31mFileExistsError\u001b[0m: [Errno 17] File exists: 'abc2.txt'"
     ]
    }
   ],
   "source": [
    "f2= open(\"abc2.txt\",'x')"
   ]
  },
  {
   "cell_type": "code",
   "execution_count": 3,
   "id": "36e7db99",
   "metadata": {},
   "outputs": [],
   "source": [
    "f1=open(\"abc1.txt\",'w')\n",
    "f1.write(\"this is my first handling  file\")\n",
    "f1.close()"
   ]
  },
  {
   "cell_type": "raw",
   "id": "fd39eb9c",
   "metadata": {},
   "source": [
    "35 simply shows the len of the string"
   ]
  },
  {
   "cell_type": "code",
   "execution_count": 4,
   "id": "3a388505",
   "metadata": {},
   "outputs": [],
   "source": [
    "f1=open(\"abc1.txt\",'w')\n",
    "f1.write(\"this is python\")\n",
    "f1.close()"
   ]
  },
  {
   "cell_type": "code",
   "execution_count": 72,
   "id": "b1555838",
   "metadata": {},
   "outputs": [
    {
     "data": {
      "text/plain": [
       "21"
      ]
     },
     "execution_count": 72,
     "metadata": {},
     "output_type": "execute_result"
    }
   ],
   "source": [
    "f1=open(\"abc1.txt\",'a')\n",
    "f1.write(\"\\n this is demo file\\n \")\n"
   ]
  },
  {
   "cell_type": "code",
   "execution_count": 96,
   "id": "cbd7fd3a",
   "metadata": {},
   "outputs": [],
   "source": [
    "f1=open(\"abc2.txt\",'r')"
   ]
  },
  {
   "cell_type": "code",
   "execution_count": 74,
   "id": "f7636a1d",
   "metadata": {},
   "outputs": [
    {
     "data": {
      "text/plain": [
       "<_io.TextIOWrapper name='abc2.txt' mode='r' encoding='cp1252'>"
      ]
     },
     "execution_count": 74,
     "metadata": {},
     "output_type": "execute_result"
    }
   ],
   "source": [
    "f1"
   ]
  },
  {
   "cell_type": "code",
   "execution_count": 75,
   "id": "a1b18dd9",
   "metadata": {},
   "outputs": [
    {
     "data": {
      "text/plain": [
       "'is a 1991 American science fiction action film directed by James Cameron,\\nwho co-wrote the script with William Wisher. \\nStarring Arnold Schwarzenegger, Linda Hamilton,\\nRobert Patrick (pictured), and Edward Furlong, \\nit is the sequel to The Terminator (1984)'"
      ]
     },
     "execution_count": 75,
     "metadata": {},
     "output_type": "execute_result"
    }
   ],
   "source": [
    "f1.read()"
   ]
  },
  {
   "cell_type": "code",
   "execution_count": 76,
   "id": "c1c2f09e",
   "metadata": {},
   "outputs": [
    {
     "data": {
      "text/plain": [
       "257"
      ]
     },
     "execution_count": 76,
     "metadata": {},
     "output_type": "execute_result"
    }
   ],
   "source": [
    "f1.tell()"
   ]
  },
  {
   "cell_type": "code",
   "execution_count": 77,
   "id": "0e65a652",
   "metadata": {},
   "outputs": [
    {
     "data": {
      "text/plain": [
       "24"
      ]
     },
     "execution_count": 77,
     "metadata": {},
     "output_type": "execute_result"
    }
   ],
   "source": [
    "f1.seek(24)"
   ]
  },
  {
   "cell_type": "code",
   "execution_count": 78,
   "id": "264761a7",
   "metadata": {},
   "outputs": [
    {
     "data": {
      "text/plain": [
       "24"
      ]
     },
     "execution_count": 78,
     "metadata": {},
     "output_type": "execute_result"
    }
   ],
   "source": [
    "f1.tell()"
   ]
  },
  {
   "cell_type": "code",
   "execution_count": 79,
   "id": "34fe436f",
   "metadata": {},
   "outputs": [
    {
     "data": {
      "text/plain": [
       "'ce fiction action film directed by James Cameron,\\nwho co-wrote the script with William Wisher. \\nStarring Arnold Schwarzenegger, Linda Hamilton,\\nRobert Patrick (pictured), and Edward Furlong, \\nit is the sequel to The Terminator (1984)'"
      ]
     },
     "execution_count": 79,
     "metadata": {},
     "output_type": "execute_result"
    }
   ],
   "source": [
    "f1.read()"
   ]
  },
  {
   "cell_type": "code",
   "execution_count": 82,
   "id": "43d28c39",
   "metadata": {},
   "outputs": [],
   "source": [
    "f1.close()"
   ]
  },
  {
   "cell_type": "code",
   "execution_count": 84,
   "id": "c92475d7",
   "metadata": {},
   "outputs": [
    {
     "data": {
      "text/plain": [
       "['is a 1991 American science fiction action film directed by James Cameron,\\n',\n",
       " 'who co-wrote the script with William Wisher. \\n',\n",
       " 'Starring Arnold Schwarzenegger, Linda Hamilton,\\n',\n",
       " 'Robert Patrick (pictured), and Edward Furlong, \\n',\n",
       " 'it is the sequel to The Terminator (1984)']"
      ]
     },
     "execution_count": 84,
     "metadata": {},
     "output_type": "execute_result"
    }
   ],
   "source": [
    "f1.readlines()"
   ]
  },
  {
   "cell_type": "code",
   "execution_count": 97,
   "id": "7d25ba1b",
   "metadata": {},
   "outputs": [
    {
     "data": {
      "text/plain": [
       "'is a 1991 American science fiction action film directed by James Cameron,\\n'"
      ]
     },
     "execution_count": 97,
     "metadata": {},
     "output_type": "execute_result"
    }
   ],
   "source": [
    "f1.readline()"
   ]
  },
  {
   "cell_type": "code",
   "execution_count": null,
   "id": "9b760c81",
   "metadata": {},
   "outputs": [],
   "source": []
  }
 ],
 "metadata": {
  "kernelspec": {
   "display_name": "Python 3 (ipykernel)",
   "language": "python",
   "name": "python3"
  },
  "language_info": {
   "codemirror_mode": {
    "name": "ipython",
    "version": 3
   },
   "file_extension": ".py",
   "mimetype": "text/x-python",
   "name": "python",
   "nbconvert_exporter": "python",
   "pygments_lexer": "ipython3",
   "version": "3.11.4"
  }
 },
 "nbformat": 4,
 "nbformat_minor": 5
}

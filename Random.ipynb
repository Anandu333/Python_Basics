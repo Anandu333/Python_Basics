{
 "cells": [
  {
   "cell_type": "code",
   "execution_count": null,
   "id": "09dbfa17",
   "metadata": {},
   "outputs": [],
   "source": [
    "pip- Preffered installer program"
   ]
  },
  {
   "cell_type": "code",
   "execution_count": null,
   "id": "78a3a930",
   "metadata": {},
   "outputs": [],
   "source": [
    "pip install pandas \n",
    "!pip install pandas "
   ]
  },
  {
   "cell_type": "code",
   "execution_count": 5,
   "id": "55702b04",
   "metadata": {},
   "outputs": [],
   "source": [
    "from random import *"
   ]
  },
  {
   "cell_type": "raw",
   "id": "5819c933",
   "metadata": {},
   "source": [
    "from random import abc"
   ]
  },
  {
   "cell_type": "code",
   "execution_count": 6,
   "id": "c2350cdf",
   "metadata": {},
   "outputs": [
    {
     "data": {
      "text/plain": [
       "0.7751599401979641"
      ]
     },
     "execution_count": 6,
     "metadata": {},
     "output_type": "execute_result"
    }
   ],
   "source": [
    "random()"
   ]
  },
  {
   "cell_type": "code",
   "execution_count": 10,
   "id": "c0748d10",
   "metadata": {},
   "outputs": [
    {
     "data": {
      "text/plain": [
       "0.22516809458298426"
      ]
     },
     "execution_count": 10,
     "metadata": {},
     "output_type": "execute_result"
    }
   ],
   "source": [
    "random()"
   ]
  },
  {
   "cell_type": "code",
   "execution_count": 11,
   "id": "ef0f1f2a",
   "metadata": {},
   "outputs": [
    {
     "name": "stdout",
     "output_type": "stream",
     "text": [
      "0.7183537072814323\n",
      "0.49940648089019624\n",
      "0.11577891462479495\n",
      "0.42622554338769236\n",
      "0.7820933307915365\n"
     ]
    }
   ],
   "source": [
    "for i in range (5):\n",
    "    print(random())"
   ]
  },
  {
   "cell_type": "code",
   "execution_count": 21,
   "id": "c2cf425a",
   "metadata": {},
   "outputs": [
    {
     "data": {
      "text/plain": [
       "2"
      ]
     },
     "execution_count": 21,
     "metadata": {},
     "output_type": "execute_result"
    }
   ],
   "source": [
    "randint(1,10)"
   ]
  },
  {
   "cell_type": "code",
   "execution_count": 23,
   "id": "a7970a4a",
   "metadata": {},
   "outputs": [
    {
     "name": "stdout",
     "output_type": "stream",
     "text": [
      "3\n",
      "7\n",
      "4\n",
      "1\n",
      "2\n"
     ]
    }
   ],
   "source": [
    " for i in range (5):\n",
    "    print(randint(1,10))"
   ]
  },
  {
   "cell_type": "code",
   "execution_count": 33,
   "id": "dadd8f6a",
   "metadata": {},
   "outputs": [
    {
     "data": {
      "text/plain": [
       "82"
      ]
     },
     "execution_count": 33,
     "metadata": {},
     "output_type": "execute_result"
    }
   ],
   "source": [
    "randrange(10,100,2)"
   ]
  },
  {
   "cell_type": "code",
   "execution_count": 34,
   "id": "7f2819df",
   "metadata": {},
   "outputs": [
    {
     "data": {
      "text/plain": [
       "1.0495965454628788"
      ]
     },
     "execution_count": 34,
     "metadata": {},
     "output_type": "execute_result"
    }
   ],
   "source": [
    " uniform(1,10)"
   ]
  },
  {
   "cell_type": "code",
   "execution_count": 35,
   "id": "6e602bdb",
   "metadata": {},
   "outputs": [],
   "source": [
    "l=[10,203,40,50,70,80]"
   ]
  },
  {
   "cell_type": "code",
   "execution_count": 45,
   "id": "837c2ab6",
   "metadata": {},
   "outputs": [
    {
     "data": {
      "text/plain": [
       "203"
      ]
     },
     "execution_count": 45,
     "metadata": {},
     "output_type": "execute_result"
    }
   ],
   "source": [
    " choice(l)"
   ]
  },
  {
   "cell_type": "code",
   "execution_count": 47,
   "id": "383420e3",
   "metadata": {},
   "outputs": [
    {
     "data": {
      "text/plain": [
       "[10, 50, 70]"
      ]
     },
     "execution_count": 47,
     "metadata": {},
     "output_type": "execute_result"
    }
   ],
   "source": [
    "sample(l,k=3)"
   ]
  },
  {
   "cell_type": "code",
   "execution_count": null,
   "id": "6bf439d0",
   "metadata": {},
   "outputs": [],
   "source": [
    "  "
   ]
  }
 ],
 "metadata": {
  "kernelspec": {
   "display_name": "Python 3 (ipykernel)",
   "language": "python",
   "name": "python3"
  },
  "language_info": {
   "codemirror_mode": {
    "name": "ipython",
    "version": 3
   },
   "file_extension": ".py",
   "mimetype": "text/x-python",
   "name": "python",
   "nbconvert_exporter": "python",
   "pygments_lexer": "ipython3",
   "version": "3.11.4"
  }
 },
 "nbformat": 4,
 "nbformat_minor": 5
}

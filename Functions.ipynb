{
 "cells": [
  {
   "cell_type": "code",
   "execution_count": 1,
   "id": "e6ee64b5",
   "metadata": {},
   "outputs": [],
   "source": [
    "p=[500,1200,4000,5000]\n",
    "abc=[100,200,300,400,500]"
   ]
  },
  {
   "cell_type": "code",
   "execution_count": 2,
   "id": "1c3adb72",
   "metadata": {},
   "outputs": [
    {
     "name": "stdout",
     "output_type": "stream",
     "text": [
      "10700\n"
     ]
    }
   ],
   "source": [
    "total_expence=0\n",
    "for i in p:\n",
    "    #total_expence = total_expence + i\n",
    "    total_expence+=i\n",
    "print(total_expence)"
   ]
  },
  {
   "cell_type": "code",
   "execution_count": 3,
   "id": "01178361",
   "metadata": {},
   "outputs": [],
   "source": [
    "def total_expence(name):\n",
    "    \"This function is used to calculate total expence\"\n",
    "    total_expence=0\n",
    "    for i in name:\n",
    "        total_expence+=i\n",
    "    print(total_expence)"
   ]
  },
  {
   "cell_type": "code",
   "execution_count": 4,
   "id": "91dc5976",
   "metadata": {},
   "outputs": [
    {
     "name": "stdout",
     "output_type": "stream",
     "text": [
      "1500\n"
     ]
    }
   ],
   "source": [
    "total_expence(abc)"
   ]
  },
  {
   "cell_type": "code",
   "execution_count": 5,
   "id": "b47059ba",
   "metadata": {},
   "outputs": [],
   "source": [
    "def sum(a,b):\n",
    "    print(a+b)"
   ]
  },
  {
   "cell_type": "code",
   "execution_count": 6,
   "id": "73d84ba8",
   "metadata": {},
   "outputs": [
    {
     "name": "stdout",
     "output_type": "stream",
     "text": [
      "30\n"
     ]
    }
   ],
   "source": [
    "sum(10, 20)"
   ]
  },
  {
   "cell_type": "code",
   "execution_count": 7,
   "id": "c7cdde8b",
   "metadata": {},
   "outputs": [],
   "source": [
    "def sum(*a): \n",
    "    return a"
   ]
  },
  {
   "cell_type": "code",
   "execution_count": 8,
   "id": "dbf7f157",
   "metadata": {},
   "outputs": [
    {
     "data": {
      "text/plain": [
       "(1, 2, 3, 4, 5)"
      ]
     },
     "execution_count": 8,
     "metadata": {},
     "output_type": "execute_result"
    }
   ],
   "source": [
    "sum(1,2,3,4,5)"
   ]
  },
  {
   "cell_type": "code",
   "execution_count": 9,
   "id": "02f0a045",
   "metadata": {},
   "outputs": [],
   "source": [
    "#*a - *args - multiple argument\n",
    "#**kwargs-keyword argumnet-key-value"
   ]
  },
  {
   "cell_type": "code",
   "execution_count": 10,
   "id": "d66c230b",
   "metadata": {},
   "outputs": [],
   "source": [
    "def test(**info):\n",
    "    return info"
   ]
  },
  {
   "cell_type": "code",
   "execution_count": 11,
   "id": "9fab78cd",
   "metadata": {},
   "outputs": [
    {
     "data": {
      "text/plain": [
       "{'name': 'abc', 'skills': ['python', 'c']}"
      ]
     },
     "execution_count": 11,
     "metadata": {},
     "output_type": "execute_result"
    }
   ],
   "source": [
    "test(name=\"abc\", skills=[\"python\",\"c\"])"
   ]
  },
  {
   "cell_type": "code",
   "execution_count": 12,
   "id": "263dc77c",
   "metadata": {},
   "outputs": [],
   "source": [
    " def test():\n",
    "        print(\"this is a function with no parameter\")"
   ]
  },
  {
   "cell_type": "code",
   "execution_count": 13,
   "id": "0e348535",
   "metadata": {},
   "outputs": [
    {
     "name": "stdout",
     "output_type": "stream",
     "text": [
      "this is a function with no parameter\n"
     ]
    }
   ],
   "source": [
    "test()"
   ]
  },
  {
   "cell_type": "code",
   "execution_count": 14,
   "id": "05cecc0a",
   "metadata": {},
   "outputs": [],
   "source": [
    "def test1(a=10,b=20):\n",
    "    print(\"value of a : \",a)\n",
    "    print(\"value of b : \",b)"
   ]
  },
  {
   "cell_type": "code",
   "execution_count": 15,
   "id": "62b37edb",
   "metadata": {},
   "outputs": [
    {
     "name": "stdout",
     "output_type": "stream",
     "text": [
      "value of a :  10\n",
      "value of b :  20\n"
     ]
    }
   ],
   "source": [
    "test1()"
   ]
  },
  {
   "cell_type": "code",
   "execution_count": 16,
   "id": "b395bf1b",
   "metadata": {},
   "outputs": [
    {
     "name": "stdout",
     "output_type": "stream",
     "text": [
      "value of a :  30\n",
      "value of b :  40\n"
     ]
    }
   ],
   "source": [
    "test1(30,40)"
   ]
  },
  {
   "cell_type": "code",
   "execution_count": 17,
   "id": "0cd76cf8",
   "metadata": {},
   "outputs": [
    {
     "name": "stdout",
     "output_type": "stream",
     "text": [
      "value of a :  25\n",
      "value of b :  20\n"
     ]
    }
   ],
   "source": [
    "test1(25)"
   ]
  },
  {
   "cell_type": "code",
   "execution_count": 18,
   "id": "ea1b64c5",
   "metadata": {},
   "outputs": [],
   "source": [
    " def test(a,b):\n",
    "        return a-b"
   ]
  },
  {
   "cell_type": "code",
   "execution_count": 19,
   "id": "920e59e0",
   "metadata": {},
   "outputs": [
    {
     "data": {
      "text/plain": [
       "10"
      ]
     },
     "execution_count": 19,
     "metadata": {},
     "output_type": "execute_result"
    }
   ],
   "source": [
    "test(30,20)"
   ]
  },
  {
   "cell_type": "code",
   "execution_count": 20,
   "id": "d85f0bfd",
   "metadata": {},
   "outputs": [],
   "source": [
    "x= lambda a, b: a+b"
   ]
  },
  {
   "cell_type": "code",
   "execution_count": 21,
   "id": "b9189f41",
   "metadata": {},
   "outputs": [
    {
     "data": {
      "text/plain": [
       "30"
      ]
     },
     "execution_count": 21,
     "metadata": {},
     "output_type": "execute_result"
    }
   ],
   "source": [
    "x(10,20)"
   ]
  },
  {
   "cell_type": "code",
   "execution_count": 22,
   "id": "60cd494e",
   "metadata": {},
   "outputs": [],
   "source": [
    "  x = lambda a: a**2"
   ]
  },
  {
   "cell_type": "code",
   "execution_count": 23,
   "id": "54c6fe63",
   "metadata": {},
   "outputs": [
    {
     "data": {
      "text/plain": [
       "100"
      ]
     },
     "execution_count": 23,
     "metadata": {},
     "output_type": "execute_result"
    }
   ],
   "source": [
    "x(10)"
   ]
  },
  {
   "cell_type": "markdown",
   "id": "7724cfbc",
   "metadata": {},
   "source": [
    "local variable - local scope - wihtin function\n",
    "global variable global scope - outside function"
   ]
  },
  {
   "cell_type": "code",
   "execution_count": 36,
   "id": "b35a9c5b",
   "metadata": {},
   "outputs": [
    {
     "name": "stdout",
     "output_type": "stream",
     "text": [
      "10\n"
     ]
    }
   ],
   "source": [
    "a=10\n",
    "def add(s):\n",
    "    a=20\n",
    "    print(s)\n",
    "add(a)"
   ]
  },
  {
   "cell_type": "code",
   "execution_count": 37,
   "id": "64f71a77",
   "metadata": {},
   "outputs": [
    {
     "data": {
      "text/plain": [
       "10"
      ]
     },
     "execution_count": 37,
     "metadata": {},
     "output_type": "execute_result"
    }
   ],
   "source": [
    "a"
   ]
  },
  {
   "cell_type": "code",
   "execution_count": 47,
   "id": "d455b43d",
   "metadata": {},
   "outputs": [
    {
     "name": "stdout",
     "output_type": "stream",
     "text": [
      "30\n"
     ]
    }
   ],
   "source": [
    "def test ():\n",
    "    ab=30\n",
    "    print(ab)\n",
    "test()"
   ]
  },
  {
   "cell_type": "markdown",
   "id": "c54433ca",
   "metadata": {},
   "source": [
    "list comprehension"
   ]
  },
  {
   "cell_type": "code",
   "execution_count": 2,
   "id": "fff62e4f",
   "metadata": {},
   "outputs": [],
   "source": [
    "t=(10,20,30,40,50,60)"
   ]
  },
  {
   "cell_type": "code",
   "execution_count": 4,
   "id": "511209a8",
   "metadata": {},
   "outputs": [],
   "source": [
    "l=[]\n",
    "for i in t:\n",
    "    l.append(i)"
   ]
  },
  {
   "cell_type": "code",
   "execution_count": 5,
   "id": "344edb11",
   "metadata": {},
   "outputs": [
    {
     "data": {
      "text/plain": [
       "[10, 20, 30, 40, 50, 60]"
      ]
     },
     "execution_count": 5,
     "metadata": {},
     "output_type": "execute_result"
    }
   ],
   "source": [
    "l"
   ]
  },
  {
   "cell_type": "code",
   "execution_count": 8,
   "id": "382afc90",
   "metadata": {},
   "outputs": [
    {
     "data": {
      "text/plain": [
       "[10, 20, 30, 40, 50, 60]"
      ]
     },
     "execution_count": 8,
     "metadata": {},
     "output_type": "execute_result"
    }
   ],
   "source": [
    "[i for i in t]"
   ]
  },
  {
   "cell_type": "code",
   "execution_count": 12,
   "id": "c8fdadf2",
   "metadata": {},
   "outputs": [
    {
     "data": {
      "text/plain": [
       "[1000, 8000, 27000, 64000, 125000, 216000]"
      ]
     },
     "execution_count": 12,
     "metadata": {},
     "output_type": "execute_result"
    }
   ],
   "source": [
    "[i**3 for i in t]"
   ]
  },
  {
   "cell_type": "code",
   "execution_count": null,
   "id": "f1138c6e",
   "metadata": {},
   "outputs": [],
   "source": []
  }
 ],
 "metadata": {
  "kernelspec": {
   "display_name": "Python 3 (ipykernel)",
   "language": "python",
   "name": "python3"
  },
  "language_info": {
   "codemirror_mode": {
    "name": "ipython",
    "version": 3
   },
   "file_extension": ".py",
   "mimetype": "text/x-python",
   "name": "python",
   "nbconvert_exporter": "python",
   "pygments_lexer": "ipython3",
   "version": "3.11.4"
  }
 },
 "nbformat": 4,
 "nbformat_minor": 5
}

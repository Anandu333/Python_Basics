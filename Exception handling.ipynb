{
 "cells": [
  {
   "cell_type": "code",
   "execution_count": 2,
   "id": "e5c9e72a",
   "metadata": {},
   "outputs": [
    {
     "ename": "NameError",
     "evalue": "name 'randint' is not defined",
     "output_type": "error",
     "traceback": [
      "\u001b[1;31m---------------------------------------------------------------------------\u001b[0m",
      "\u001b[1;31mNameError\u001b[0m                                 Traceback (most recent call last)",
      "Cell \u001b[1;32mIn[2], line 2\u001b[0m\n\u001b[0;32m      1\u001b[0m \u001b[38;5;28;01mfor\u001b[39;00m i \u001b[38;5;129;01min\u001b[39;00m \u001b[38;5;28mrange\u001b[39m(\u001b[38;5;241m5\u001b[39m):\n\u001b[1;32m----> 2\u001b[0m               \u001b[38;5;28mprint\u001b[39m(randint())\n",
      "\u001b[1;31mNameError\u001b[0m: name 'randint' is not defined"
     ]
    }
   ],
   "source": [
    "for i in range(5):\n",
    "              print(randint())"
   ]
  },
  {
   "cell_type": "code",
   "execution_count": 7,
   "id": "bd1421f1",
   "metadata": {},
   "outputs": [],
   "source": [
    "a=10\n",
    "b=0"
   ]
  },
  {
   "cell_type": "code",
   "execution_count": 9,
   "id": "19849d6d",
   "metadata": {},
   "outputs": [
    {
     "ename": "ZeroDivisionError",
     "evalue": "division by zero",
     "output_type": "error",
     "traceback": [
      "\u001b[1;31m---------------------------------------------------------------------------\u001b[0m",
      "\u001b[1;31mZeroDivisionError\u001b[0m                         Traceback (most recent call last)",
      "Cell \u001b[1;32mIn[9], line 1\u001b[0m\n\u001b[1;32m----> 1\u001b[0m a\u001b[38;5;241m/\u001b[39mb\n",
      "\u001b[1;31mZeroDivisionError\u001b[0m: division by zero"
     ]
    }
   ],
   "source": [
    "a/b"
   ]
  },
  {
   "cell_type": "markdown",
   "id": "19f32971",
   "metadata": {},
   "source": [
    "three blocks in exception handling \n",
    "try \n",
    "except\n",
    "finally"
   ]
  },
  {
   "cell_type": "code",
   "execution_count": 14,
   "id": "76350c3d",
   "metadata": {},
   "outputs": [
    {
     "name": "stdout",
     "output_type": "stream",
     "text": [
      "0.5\n",
      "task is commplete\n"
     ]
    }
   ],
   "source": [
    "a=10\n",
    "b=20\n",
    "try:\n",
    "    print(a/b)\n",
    "except:\n",
    "    print(\"number cant be divided by zero\")\n",
    "finally:\n",
    "    print (\"task is commplete\")"
   ]
  },
  {
   "cell_type": "code",
   "execution_count": 15,
   "id": "86d65810",
   "metadata": {},
   "outputs": [
    {
     "name": "stdout",
     "output_type": "stream",
     "text": [
      "number cant be divided by zero\n",
      "task is commplete\n"
     ]
    }
   ],
   "source": [
    "a=10\n",
    "b=0\n",
    "try:\n",
    "    print(a/b)\n",
    "except:\n",
    "    print(\"number cant be divided by zero\")\n",
    "finally:\n",
    "    print (\"task is commplete\")"
   ]
  },
  {
   "cell_type": "code",
   "execution_count": 17,
   "id": "b32787d0",
   "metadata": {},
   "outputs": [
    {
     "name": "stdout",
     "output_type": "stream",
     "text": [
      "division by zero\n",
      "task is commplete\n"
     ]
    }
   ],
   "source": [
    "a=10\n",
    "b=0\n",
    "try:\n",
    "    print(a/b)\n",
    "except Exception as e:\n",
    "    print(e)\n",
    "finally:\n",
    "    print (\"task is commplete\")"
   ]
  },
  {
   "cell_type": "code",
   "execution_count": null,
   "id": "964c358f",
   "metadata": {},
   "outputs": [],
   "source": []
  }
 ],
 "metadata": {
  "kernelspec": {
   "display_name": "Python 3 (ipykernel)",
   "language": "python",
   "name": "python3"
  },
  "language_info": {
   "codemirror_mode": {
    "name": "ipython",
    "version": 3
   },
   "file_extension": ".py",
   "mimetype": "text/x-python",
   "name": "python",
   "nbconvert_exporter": "python",
   "pygments_lexer": "ipython3",
   "version": "3.11.4"
  }
 },
 "nbformat": 4,
 "nbformat_minor": 5
}

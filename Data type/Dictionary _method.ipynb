{
 "cells": [
  {
   "cell_type": "code",
   "execution_count": 73,
   "id": "d620e199",
   "metadata": {},
   "outputs": [],
   "source": [
    "d={}"
   ]
  },
  {
   "cell_type": "code",
   "execution_count": 74,
   "id": "4e27245f",
   "metadata": {},
   "outputs": [
    {
     "data": {
      "text/plain": [
       "dict"
      ]
     },
     "execution_count": 74,
     "metadata": {},
     "output_type": "execute_result"
    }
   ],
   "source": [
    "type(d)"
   ]
  },
  {
   "cell_type": "code",
   "execution_count": 75,
   "id": "48eaa3f6",
   "metadata": {},
   "outputs": [],
   "source": [
    "d={\"key\":\"value\", \"Name\":\"Anandu\", \"Email\":\"nairanandu@gmail.com\",\"mobile\":932524}"
   ]
  },
  {
   "cell_type": "code",
   "execution_count": 76,
   "id": "bd1c9bd8",
   "metadata": {},
   "outputs": [
    {
     "data": {
      "text/plain": [
       "{'key': 'value',\n",
       " 'Name': 'Anandu',\n",
       " 'Email': 'nairanandu@gmail.com',\n",
       " 'mobile': 932524}"
      ]
     },
     "execution_count": 76,
     "metadata": {},
     "output_type": "execute_result"
    }
   ],
   "source": [
    "d"
   ]
  },
  {
   "cell_type": "code",
   "execution_count": 77,
   "id": "1925bbe7",
   "metadata": {},
   "outputs": [],
   "source": [
    "d={\"key\":\"value\", \"Name\":\"Anandu\",\"mobile\":932524,\"Name\":\"jay\"}"
   ]
  },
  {
   "cell_type": "code",
   "execution_count": 78,
   "id": "05a01d25",
   "metadata": {},
   "outputs": [
    {
     "data": {
      "text/plain": [
       "{'key': 'value', 'Name': 'jay', 'mobile': 932524}"
      ]
     },
     "execution_count": 78,
     "metadata": {},
     "output_type": "execute_result"
    }
   ],
   "source": [
    "d"
   ]
  },
  {
   "cell_type": "code",
   "execution_count": 79,
   "id": "9446a3ad",
   "metadata": {},
   "outputs": [],
   "source": [
    "d[\"Address\"]=\"Pune\""
   ]
  },
  {
   "cell_type": "code",
   "execution_count": 80,
   "id": "05d14be7",
   "metadata": {},
   "outputs": [
    {
     "data": {
      "text/plain": [
       "{'key': 'value', 'Name': 'jay', 'mobile': 932524, 'Address': 'Pune'}"
      ]
     },
     "execution_count": 80,
     "metadata": {},
     "output_type": "execute_result"
    }
   ],
   "source": [
    "d"
   ]
  },
  {
   "cell_type": "code",
   "execution_count": 81,
   "id": "08372001",
   "metadata": {},
   "outputs": [],
   "source": [
    " d[\"Address\"]=\"Mumbai\""
   ]
  },
  {
   "cell_type": "code",
   "execution_count": 82,
   "id": "b650433c",
   "metadata": {},
   "outputs": [
    {
     "data": {
      "text/plain": [
       "{'key': 'value', 'Name': 'jay', 'mobile': 932524, 'Address': 'Mumbai'}"
      ]
     },
     "execution_count": 82,
     "metadata": {},
     "output_type": "execute_result"
    }
   ],
   "source": [
    "d"
   ]
  },
  {
   "cell_type": "code",
   "execution_count": 83,
   "id": "9e951846",
   "metadata": {},
   "outputs": [
    {
     "data": {
      "text/plain": [
       "'jay'"
      ]
     },
     "execution_count": 83,
     "metadata": {},
     "output_type": "execute_result"
    }
   ],
   "source": [
    "d.get(\"Name\")"
   ]
  },
  {
   "cell_type": "code",
   "execution_count": 84,
   "id": "819daf9e",
   "metadata": {},
   "outputs": [
    {
     "data": {
      "text/plain": [
       "True"
      ]
     },
     "execution_count": 84,
     "metadata": {},
     "output_type": "execute_result"
    }
   ],
   "source": [
    "\"jay\" in d[\"Name\"]"
   ]
  },
  {
   "cell_type": "code",
   "execution_count": 85,
   "id": "5d581a44",
   "metadata": {},
   "outputs": [
    {
     "ename": "TypeError",
     "evalue": "argument of type 'int' is not iterable",
     "output_type": "error",
     "traceback": [
      "\u001b[1;31m---------------------------------------------------------------------------\u001b[0m",
      "\u001b[1;31mTypeError\u001b[0m                                 Traceback (most recent call last)",
      "Cell \u001b[1;32mIn[85], line 1\u001b[0m\n\u001b[1;32m----> 1\u001b[0m \u001b[38;5;241m932524\u001b[39m \u001b[38;5;129;01min\u001b[39;00m d[\u001b[38;5;124m\"\u001b[39m\u001b[38;5;124mmobile\u001b[39m\u001b[38;5;124m\"\u001b[39m]\n",
      "\u001b[1;31mTypeError\u001b[0m: argument of type 'int' is not iterable"
     ]
    }
   ],
   "source": [
    "932524 in d[\"mobile\"]  "
   ]
  },
  {
   "cell_type": "code",
   "execution_count": null,
   "id": "9b1e3059",
   "metadata": {},
   "outputs": [],
   "source": [
    "d.keys()"
   ]
  },
  {
   "cell_type": "code",
   "execution_count": null,
   "id": "bb16a2d2",
   "metadata": {},
   "outputs": [],
   "source": [
    "d.values()"
   ]
  },
  {
   "cell_type": "code",
   "execution_count": null,
   "id": "3f3b75c9",
   "metadata": {},
   "outputs": [],
   "source": [
    "d={\"key\":\"value\", \"Name\":\"Anandu\", \"skills\": [\"python\",\"java\",\"c++\"]}"
   ]
  },
  {
   "cell_type": "code",
   "execution_count": null,
   "id": "111dffbd",
   "metadata": {},
   "outputs": [],
   "source": [
    "d"
   ]
  },
  {
   "cell_type": "code",
   "execution_count": null,
   "id": "44a7cdab",
   "metadata": {},
   "outputs": [],
   "source": [
    "d={\"key\":\"value\", \"Name\":\"Anandu\", \"skills\": {\"python\",\"java\",\"c++\"}}"
   ]
  },
  {
   "cell_type": "code",
   "execution_count": null,
   "id": "ca4c4cb7",
   "metadata": {},
   "outputs": [],
   "source": [
    "d"
   ]
  },
  {
   "cell_type": "code",
   "execution_count": null,
   "id": "6dd4df77",
   "metadata": {},
   "outputs": [],
   "source": [
    "d={\"key\":\"value\", \"Name\":\"Anandu\", \"skills\": {\"python\":\"ds\"}} "
   ]
  },
  {
   "cell_type": "code",
   "execution_count": null,
   "id": "4d3c6757",
   "metadata": {},
   "outputs": [],
   "source": [
    "d"
   ]
  },
  {
   "cell_type": "code",
   "execution_count": null,
   "id": "85498dc0",
   "metadata": {},
   "outputs": [],
   "source": [
    " d={\"key\":\"value\", \"Name\":\"Anandu\", \"skills\": {\"python\":\"ds\"}} "
   ]
  },
  {
   "cell_type": "code",
   "execution_count": null,
   "id": "dc454112",
   "metadata": {},
   "outputs": [],
   "source": [
    "d[\"skills\"]"
   ]
  },
  {
   "cell_type": "code",
   "execution_count": null,
   "id": "361f5ba5",
   "metadata": {},
   "outputs": [],
   "source": [
    "  d={\"key\":\"value\", \"Name\":\"Anandu\", \"skills\": {\"ds\":\"python\", \"web\":\"html\"}} "
   ]
  },
  {
   "cell_type": "code",
   "execution_count": null,
   "id": "07d53be8",
   "metadata": {},
   "outputs": [],
   "source": [
    "d"
   ]
  },
  {
   "cell_type": "code",
   "execution_count": null,
   "id": "cb8fc693",
   "metadata": {},
   "outputs": [],
   "source": [
    "d[\"skills\"][\"ds\"]"
   ]
  },
  {
   "cell_type": "code",
   "execution_count": null,
   "id": "b30d2731",
   "metadata": {},
   "outputs": [],
   "source": [
    "d  "
   ]
  },
  {
   "cell_type": "code",
   "execution_count": null,
   "id": "89c969f9",
   "metadata": {},
   "outputs": [],
   "source": [
    "del d[\"skills\"]"
   ]
  },
  {
   "cell_type": "code",
   "execution_count": null,
   "id": "14cea5cd",
   "metadata": {},
   "outputs": [],
   "source": [
    "d"
   ]
  },
  {
   "cell_type": "code",
   "execution_count": null,
   "id": "daddc19f",
   "metadata": {},
   "outputs": [],
   "source": [
    "d.pop(\"key\")"
   ]
  },
  {
   "cell_type": "code",
   "execution_count": null,
   "id": "7d715489",
   "metadata": {},
   "outputs": [],
   "source": [
    "d"
   ]
  },
  {
   "cell_type": "code",
   "execution_count": null,
   "id": "571960cd",
   "metadata": {},
   "outputs": [],
   "source": [
    "d.clear()"
   ]
  },
  {
   "cell_type": "code",
   "execution_count": null,
   "id": "4f4276c6",
   "metadata": {},
   "outputs": [],
   "source": [
    "d"
   ]
  },
  {
   "cell_type": "code",
   "execution_count": null,
   "id": "d9620b7c",
   "metadata": {},
   "outputs": [],
   "source": [
    "d={\"key\":\"value\", \"Name\":\"Anandu\", \"Email\":\"nairanandu@gmail.com\",\"mobile\":932524}"
   ]
  },
  {
   "cell_type": "code",
   "execution_count": null,
   "id": "da074119",
   "metadata": {},
   "outputs": [],
   "source": [
    "d"
   ]
  },
  {
   "cell_type": "code",
   "execution_count": null,
   "id": "eb6467fd",
   "metadata": {},
   "outputs": [],
   "source": [
    "d.items()"
   ]
  },
  {
   "cell_type": "code",
   "execution_count": null,
   "id": "09f880fb",
   "metadata": {},
   "outputs": [],
   "source": [
    "d.popitem()"
   ]
  },
  {
   "cell_type": "code",
   "execution_count": null,
   "id": "0f2a7b1b",
   "metadata": {},
   "outputs": [],
   "source": [
    "d"
   ]
  },
  {
   "cell_type": "code",
   "execution_count": null,
   "id": "17ab002c",
   "metadata": {},
   "outputs": [],
   "source": [
    " "
   ]
  }
 ],
 "metadata": {
  "kernelspec": {
   "display_name": "Python 3 (ipykernel)",
   "language": "python",
   "name": "python3"
  },
  "language_info": {
   "codemirror_mode": {
    "name": "ipython",
    "version": 3
   },
   "file_extension": ".py",
   "mimetype": "text/x-python",
   "name": "python",
   "nbconvert_exporter": "python",
   "pygments_lexer": "ipython3",
   "version": "3.11.4"
  }
 },
 "nbformat": 4,
 "nbformat_minor": 5
}

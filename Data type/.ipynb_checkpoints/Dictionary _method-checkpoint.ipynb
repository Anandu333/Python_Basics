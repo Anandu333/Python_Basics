{
 "cells": [
  {
   "cell_type": "code",
   "execution_count": 1,
   "id": "d620e199",
   "metadata": {},
   "outputs": [],
   "source": [
    "d={}"
   ]
  },
  {
   "cell_type": "code",
   "execution_count": 2,
   "id": "4e27245f",
   "metadata": {},
   "outputs": [
    {
     "data": {
      "text/plain": [
       "dict"
      ]
     },
     "execution_count": 2,
     "metadata": {},
     "output_type": "execute_result"
    }
   ],
   "source": [
    "type(d)"
   ]
  },
  {
   "cell_type": "code",
   "execution_count": 9,
   "id": "48eaa3f6",
   "metadata": {},
   "outputs": [],
   "source": [
    "d={\"key\":\"value\", \"Name\":\"Anandu\", \"Email\":\"nairanandu@gmail.com\",\"mobile\":932524}"
   ]
  },
  {
   "cell_type": "code",
   "execution_count": 10,
   "id": "bd1c9bd8",
   "metadata": {},
   "outputs": [
    {
     "data": {
      "text/plain": [
       "{'key': 'value',\n",
       " 'Name': 'Anandu',\n",
       " 'Email': 'nairanandu@gmail.com',\n",
       " 'mobile': 932524}"
      ]
     },
     "execution_count": 10,
     "metadata": {},
     "output_type": "execute_result"
    }
   ],
   "source": [
    "d"
   ]
  },
  {
   "cell_type": "code",
   "execution_count": 12,
   "id": "1925bbe7",
   "metadata": {},
   "outputs": [],
   "source": [
    "d={\"key\":\"value\", \"Name\":\"Anandu\",\"mobile\":932524,\"Name\":\"jay\"}"
   ]
  },
  {
   "cell_type": "code",
   "execution_count": 13,
   "id": "05a01d25",
   "metadata": {},
   "outputs": [
    {
     "data": {
      "text/plain": [
       "{'key': 'value', 'Name': 'jay', 'mobile': 932524}"
      ]
     },
     "execution_count": 13,
     "metadata": {},
     "output_type": "execute_result"
    }
   ],
   "source": [
    "d"
   ]
  },
  {
   "cell_type": "code",
   "execution_count": 14,
   "id": "9446a3ad",
   "metadata": {},
   "outputs": [],
   "source": [
    "d[\"Address\"]=\"Pune\""
   ]
  },
  {
   "cell_type": "code",
   "execution_count": 15,
   "id": "05d14be7",
   "metadata": {},
   "outputs": [
    {
     "data": {
      "text/plain": [
       "{'key': 'value', 'Name': 'jay', 'mobile': 932524, 'Address': 'Pune'}"
      ]
     },
     "execution_count": 15,
     "metadata": {},
     "output_type": "execute_result"
    }
   ],
   "source": [
    "d"
   ]
  },
  {
   "cell_type": "code",
   "execution_count": 16,
   "id": "08372001",
   "metadata": {},
   "outputs": [],
   "source": [
    " d[\"Address\"]=\"Mumbai\""
   ]
  },
  {
   "cell_type": "code",
   "execution_count": 17,
   "id": "b650433c",
   "metadata": {},
   "outputs": [
    {
     "data": {
      "text/plain": [
       "{'key': 'value', 'Name': 'jay', 'mobile': 932524, 'Address': 'Mumbai'}"
      ]
     },
     "execution_count": 17,
     "metadata": {},
     "output_type": "execute_result"
    }
   ],
   "source": [
    "d"
   ]
  },
  {
   "cell_type": "code",
   "execution_count": 23,
   "id": "9e951846",
   "metadata": {},
   "outputs": [
    {
     "data": {
      "text/plain": [
       "'jay'"
      ]
     },
     "execution_count": 23,
     "metadata": {},
     "output_type": "execute_result"
    }
   ],
   "source": [
    "d.get(\"Name\")"
   ]
  },
  {
   "cell_type": "code",
   "execution_count": 26,
   "id": "819daf9e",
   "metadata": {},
   "outputs": [
    {
     "data": {
      "text/plain": [
       "True"
      ]
     },
     "execution_count": 26,
     "metadata": {},
     "output_type": "execute_result"
    }
   ],
   "source": [
    "\"jay\" in d[\"Name\"]"
   ]
  },
  {
   "cell_type": "code",
   "execution_count": 30,
   "id": "5d581a44",
   "metadata": {},
   "outputs": [
    {
     "ename": "TypeError",
     "evalue": "argument of type 'int' is not iterable",
     "output_type": "error",
     "traceback": [
      "\u001b[1;31m---------------------------------------------------------------------------\u001b[0m",
      "\u001b[1;31mTypeError\u001b[0m                                 Traceback (most recent call last)",
      "Cell \u001b[1;32mIn[30], line 1\u001b[0m\n\u001b[1;32m----> 1\u001b[0m \u001b[38;5;241m932524\u001b[39m \u001b[38;5;129;01min\u001b[39;00m d[\u001b[38;5;124m\"\u001b[39m\u001b[38;5;124mmobile\u001b[39m\u001b[38;5;124m\"\u001b[39m]\n",
      "\u001b[1;31mTypeError\u001b[0m: argument of type 'int' is not iterable"
     ]
    }
   ],
   "source": [
    "932524 in d[\"mobile\"]  "
   ]
  },
  {
   "cell_type": "code",
   "execution_count": 32,
   "id": "9b1e3059",
   "metadata": {},
   "outputs": [
    {
     "data": {
      "text/plain": [
       "dict_keys(['key', 'Name', 'mobile', 'Address'])"
      ]
     },
     "execution_count": 32,
     "metadata": {},
     "output_type": "execute_result"
    }
   ],
   "source": [
    "d.keys()"
   ]
  },
  {
   "cell_type": "code",
   "execution_count": 33,
   "id": "bb16a2d2",
   "metadata": {},
   "outputs": [
    {
     "data": {
      "text/plain": [
       "dict_values(['value', 'jay', 932524, 'Mumbai'])"
      ]
     },
     "execution_count": 33,
     "metadata": {},
     "output_type": "execute_result"
    }
   ],
   "source": [
    "d.values()"
   ]
  },
  {
   "cell_type": "code",
   "execution_count": 34,
   "id": "3f3b75c9",
   "metadata": {},
   "outputs": [],
   "source": [
    "d={\"key\":\"value\", \"Name\":\"Anandu\", \"skills\": [\"python\",\"java\",\"c++\"]}"
   ]
  },
  {
   "cell_type": "code",
   "execution_count": 35,
   "id": "111dffbd",
   "metadata": {},
   "outputs": [
    {
     "data": {
      "text/plain": [
       "{'key': 'value', 'Name': 'Anandu', 'skills': ['python', 'java', 'c++']}"
      ]
     },
     "execution_count": 35,
     "metadata": {},
     "output_type": "execute_result"
    }
   ],
   "source": [
    "d"
   ]
  },
  {
   "cell_type": "code",
   "execution_count": 36,
   "id": "44a7cdab",
   "metadata": {},
   "outputs": [],
   "source": [
    "d={\"key\":\"value\", \"Name\":\"Anandu\", \"skills\": {\"python\",\"java\",\"c++\"}}"
   ]
  },
  {
   "cell_type": "code",
   "execution_count": 37,
   "id": "ca4c4cb7",
   "metadata": {},
   "outputs": [
    {
     "data": {
      "text/plain": [
       "{'key': 'value', 'Name': 'Anandu', 'skills': {'c++', 'java', 'python'}}"
      ]
     },
     "execution_count": 37,
     "metadata": {},
     "output_type": "execute_result"
    }
   ],
   "source": [
    "d"
   ]
  },
  {
   "cell_type": "code",
   "execution_count": 38,
   "id": "6dd4df77",
   "metadata": {},
   "outputs": [],
   "source": [
    "d={\"key\":\"value\", \"Name\":\"Anandu\", \"skills\": {\"python\":\"ds\"}} "
   ]
  },
  {
   "cell_type": "code",
   "execution_count": 39,
   "id": "4d3c6757",
   "metadata": {},
   "outputs": [
    {
     "data": {
      "text/plain": [
       "{'key': 'value', 'Name': 'Anandu', 'skills': {'python': 'ds'}}"
      ]
     },
     "execution_count": 39,
     "metadata": {},
     "output_type": "execute_result"
    }
   ],
   "source": [
    "d"
   ]
  },
  {
   "cell_type": "code",
   "execution_count": 40,
   "id": "85498dc0",
   "metadata": {},
   "outputs": [],
   "source": [
    " d={\"key\":\"value\", \"Name\":\"Anandu\", \"skills\": {\"python\":\"ds\"}} "
   ]
  },
  {
   "cell_type": "code",
   "execution_count": 41,
   "id": "dc454112",
   "metadata": {},
   "outputs": [
    {
     "data": {
      "text/plain": [
       "{'python': 'ds'}"
      ]
     },
     "execution_count": 41,
     "metadata": {},
     "output_type": "execute_result"
    }
   ],
   "source": [
    "d[\"skills\"]"
   ]
  },
  {
   "cell_type": "code",
   "execution_count": 42,
   "id": "361f5ba5",
   "metadata": {},
   "outputs": [],
   "source": [
    "  d={\"key\":\"value\", \"Name\":\"Anandu\", \"skills\": {\"ds\":\"python\", \"web\":\"html\"}} "
   ]
  },
  {
   "cell_type": "code",
   "execution_count": 43,
   "id": "07d53be8",
   "metadata": {},
   "outputs": [
    {
     "data": {
      "text/plain": [
       "{'key': 'value', 'Name': 'Anandu', 'skills': {'ds': 'python', 'web': 'html'}}"
      ]
     },
     "execution_count": 43,
     "metadata": {},
     "output_type": "execute_result"
    }
   ],
   "source": [
    "d"
   ]
  },
  {
   "cell_type": "code",
   "execution_count": 44,
   "id": "cb8fc693",
   "metadata": {},
   "outputs": [
    {
     "data": {
      "text/plain": [
       "'python'"
      ]
     },
     "execution_count": 44,
     "metadata": {},
     "output_type": "execute_result"
    }
   ],
   "source": [
    "d[\"skills\"][\"ds\"]"
   ]
  },
  {
   "cell_type": "code",
   "execution_count": 45,
   "id": "b30d2731",
   "metadata": {},
   "outputs": [
    {
     "data": {
      "text/plain": [
       "{'key': 'value', 'Name': 'Anandu', 'skills': {'ds': 'python', 'web': 'html'}}"
      ]
     },
     "execution_count": 45,
     "metadata": {},
     "output_type": "execute_result"
    }
   ],
   "source": [
    "d  "
   ]
  },
  {
   "cell_type": "code",
   "execution_count": 46,
   "id": "89c969f9",
   "metadata": {},
   "outputs": [],
   "source": [
    "del d[\"skills\"]"
   ]
  },
  {
   "cell_type": "code",
   "execution_count": 47,
   "id": "14cea5cd",
   "metadata": {},
   "outputs": [
    {
     "data": {
      "text/plain": [
       "{'key': 'value', 'Name': 'Anandu'}"
      ]
     },
     "execution_count": 47,
     "metadata": {},
     "output_type": "execute_result"
    }
   ],
   "source": [
    "d"
   ]
  },
  {
   "cell_type": "code",
   "execution_count": 50,
   "id": "daddc19f",
   "metadata": {},
   "outputs": [
    {
     "data": {
      "text/plain": [
       "'value'"
      ]
     },
     "execution_count": 50,
     "metadata": {},
     "output_type": "execute_result"
    }
   ],
   "source": [
    "d.pop(\"key\")"
   ]
  },
  {
   "cell_type": "code",
   "execution_count": 51,
   "id": "7d715489",
   "metadata": {},
   "outputs": [
    {
     "data": {
      "text/plain": [
       "{'Name': 'Anandu'}"
      ]
     },
     "execution_count": 51,
     "metadata": {},
     "output_type": "execute_result"
    }
   ],
   "source": [
    "d"
   ]
  },
  {
   "cell_type": "code",
   "execution_count": 52,
   "id": "571960cd",
   "metadata": {},
   "outputs": [],
   "source": [
    "d.clear()"
   ]
  },
  {
   "cell_type": "code",
   "execution_count": 53,
   "id": "4f4276c6",
   "metadata": {},
   "outputs": [
    {
     "data": {
      "text/plain": [
       "{}"
      ]
     },
     "execution_count": 53,
     "metadata": {},
     "output_type": "execute_result"
    }
   ],
   "source": [
    "d"
   ]
  },
  {
   "cell_type": "code",
   "execution_count": 54,
   "id": "d9620b7c",
   "metadata": {},
   "outputs": [],
   "source": [
    "d={\"key\":\"value\", \"Name\":\"Anandu\", \"Email\":\"nairanandu@gmail.com\",\"mobile\":932524}"
   ]
  },
  {
   "cell_type": "code",
   "execution_count": 55,
   "id": "da074119",
   "metadata": {},
   "outputs": [
    {
     "data": {
      "text/plain": [
       "{'key': 'value',\n",
       " 'Name': 'Anandu',\n",
       " 'Email': 'nairanandu@gmail.com',\n",
       " 'mobile': 932524}"
      ]
     },
     "execution_count": 55,
     "metadata": {},
     "output_type": "execute_result"
    }
   ],
   "source": [
    "d"
   ]
  },
  {
   "cell_type": "code",
   "execution_count": 56,
   "id": "eb6467fd",
   "metadata": {},
   "outputs": [
    {
     "data": {
      "text/plain": [
       "dict_items([('key', 'value'), ('Name', 'Anandu'), ('Email', 'nairanandu@gmail.com'), ('mobile', 932524)])"
      ]
     },
     "execution_count": 56,
     "metadata": {},
     "output_type": "execute_result"
    }
   ],
   "source": [
    "d.items()"
   ]
  },
  {
   "cell_type": "code",
   "execution_count": 58,
   "id": "09f880fb",
   "metadata": {},
   "outputs": [
    {
     "data": {
      "text/plain": [
       "('mobile', 932524)"
      ]
     },
     "execution_count": 58,
     "metadata": {},
     "output_type": "execute_result"
    }
   ],
   "source": [
    "d.popitem()"
   ]
  },
  {
   "cell_type": "code",
   "execution_count": 59,
   "id": "0f2a7b1b",
   "metadata": {},
   "outputs": [
    {
     "data": {
      "text/plain": [
       "{'key': 'value', 'Name': 'Anandu', 'Email': 'nairanandu@gmail.com'}"
      ]
     },
     "execution_count": 59,
     "metadata": {},
     "output_type": "execute_result"
    }
   ],
   "source": [
    "d"
   ]
  },
  {
   "cell_type": "code",
   "execution_count": null,
   "id": "17ab002c",
   "metadata": {},
   "outputs": [],
   "source": [
    " "
   ]
  }
 ],
 "metadata": {
  "kernelspec": {
   "display_name": "Python 3 (ipykernel)",
   "language": "python",
   "name": "python3"
  },
  "language_info": {
   "codemirror_mode": {
    "name": "ipython",
    "version": 3
   },
   "file_extension": ".py",
   "mimetype": "text/x-python",
   "name": "python",
   "nbconvert_exporter": "python",
   "pygments_lexer": "ipython3",
   "version": "3.11.4"
  }
 },
 "nbformat": 4,
 "nbformat_minor": 5
}

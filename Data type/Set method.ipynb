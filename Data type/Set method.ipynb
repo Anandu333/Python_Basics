{
 "cells": [
  {
   "cell_type": "code",
   "execution_count": 5,
   "id": "26f42b2f",
   "metadata": {},
   "outputs": [],
   "source": [
    "s={12}"
   ]
  },
  {
   "cell_type": "code",
   "execution_count": 6,
   "id": "de7abc13",
   "metadata": {},
   "outputs": [
    {
     "data": {
      "text/plain": [
       "set"
      ]
     },
     "execution_count": 6,
     "metadata": {},
     "output_type": "execute_result"
    }
   ],
   "source": [
    "type(s)"
   ]
  },
  {
   "cell_type": "code",
   "execution_count": 7,
   "id": "528c2c43",
   "metadata": {},
   "outputs": [],
   "source": [
    "s={12,12,44,34,44,58,56,}"
   ]
  },
  {
   "cell_type": "code",
   "execution_count": 8,
   "id": "81a3d3d1",
   "metadata": {},
   "outputs": [
    {
     "data": {
      "text/plain": [
       "{12, 34, 44, 56, 58}"
      ]
     },
     "execution_count": 8,
     "metadata": {},
     "output_type": "execute_result"
    }
   ],
   "source": [
    "s"
   ]
  },
  {
   "cell_type": "code",
   "execution_count": 9,
   "id": "d9a0fc8d",
   "metadata": {},
   "outputs": [],
   "source": [
    "s={12,12,44,34,44,58,56,\"python\"}"
   ]
  },
  {
   "cell_type": "code",
   "execution_count": 10,
   "id": "0445017c",
   "metadata": {},
   "outputs": [
    {
     "data": {
      "text/plain": [
       "{12, 34, 44, 56, 58, 'python'}"
      ]
     },
     "execution_count": 10,
     "metadata": {},
     "output_type": "execute_result"
    }
   ],
   "source": [
    "s"
   ]
  },
  {
   "cell_type": "code",
   "execution_count": 11,
   "id": "85b9cb51",
   "metadata": {},
   "outputs": [
    {
     "data": {
      "text/plain": [
       "6"
      ]
     },
     "execution_count": 11,
     "metadata": {},
     "output_type": "execute_result"
    }
   ],
   "source": [
    "len(s)"
   ]
  },
  {
   "cell_type": "code",
   "execution_count": 12,
   "id": "2cec69a8",
   "metadata": {},
   "outputs": [],
   "source": [
    "t= (23,45,34)"
   ]
  },
  {
   "cell_type": "code",
   "execution_count": 13,
   "id": "f386302f",
   "metadata": {},
   "outputs": [],
   "source": [
    "s.add(t)"
   ]
  },
  {
   "cell_type": "code",
   "execution_count": 14,
   "id": "47a44efa",
   "metadata": {},
   "outputs": [
    {
     "data": {
      "text/plain": [
       "{(23, 45, 34), 12, 34, 44, 56, 58, 'python'}"
      ]
     },
     "execution_count": 14,
     "metadata": {},
     "output_type": "execute_result"
    }
   ],
   "source": [
    "s"
   ]
  },
  {
   "cell_type": "code",
   "execution_count": 15,
   "id": "ff98980c",
   "metadata": {},
   "outputs": [
    {
     "data": {
      "text/plain": [
       "7"
      ]
     },
     "execution_count": 15,
     "metadata": {},
     "output_type": "execute_result"
    }
   ],
   "source": [
    "len(s)"
   ]
  },
  {
   "cell_type": "code",
   "execution_count": 16,
   "id": "3ba018fb",
   "metadata": {},
   "outputs": [],
   "source": [
    " s.add(199)"
   ]
  },
  {
   "cell_type": "code",
   "execution_count": 17,
   "id": "99cf12a2",
   "metadata": {},
   "outputs": [
    {
     "data": {
      "text/plain": [
       "{(23, 45, 34), 12, 199, 34, 44, 56, 58, 'python'}"
      ]
     },
     "execution_count": 17,
     "metadata": {},
     "output_type": "execute_result"
    }
   ],
   "source": [
    "s"
   ]
  },
  {
   "cell_type": "code",
   "execution_count": 18,
   "id": "e2dd796a",
   "metadata": {},
   "outputs": [
    {
     "data": {
      "text/plain": [
       "{12, 34, 44, 56, 58}"
      ]
     },
     "execution_count": 18,
     "metadata": {},
     "output_type": "execute_result"
    }
   ],
   "source": [
    "{12,12,44,34,44,58,56,}"
   ]
  },
  {
   "cell_type": "code",
   "execution_count": 19,
   "id": "6e77710b",
   "metadata": {},
   "outputs": [
    {
     "data": {
      "text/plain": [
       "{(23, 45, 34), 12, 199, 34, 44, 56, 58, 'python'}"
      ]
     },
     "execution_count": 19,
     "metadata": {},
     "output_type": "execute_result"
    }
   ],
   "source": [
    "s"
   ]
  },
  {
   "cell_type": "code",
   "execution_count": 20,
   "id": "e03bd8d4",
   "metadata": {},
   "outputs": [],
   "source": [
    "s1={22,45,66}"
   ]
  },
  {
   "cell_type": "code",
   "execution_count": 21,
   "id": "dfaa1853",
   "metadata": {},
   "outputs": [
    {
     "data": {
      "text/plain": [
       "{(23, 45, 34), 12, 199, 34, 44, 56, 58, 'python'}"
      ]
     },
     "execution_count": 21,
     "metadata": {},
     "output_type": "execute_result"
    }
   ],
   "source": [
    "s"
   ]
  },
  {
   "cell_type": "code",
   "execution_count": 22,
   "id": "3d52d29e",
   "metadata": {},
   "outputs": [],
   "source": [
    "s.update(s1)"
   ]
  },
  {
   "cell_type": "code",
   "execution_count": 23,
   "id": "286e150b",
   "metadata": {},
   "outputs": [
    {
     "data": {
      "text/plain": [
       "{(23, 45, 34), 12, 199, 22, 34, 44, 45, 56, 58, 66, 'python'}"
      ]
     },
     "execution_count": 23,
     "metadata": {},
     "output_type": "execute_result"
    }
   ],
   "source": [
    "s"
   ]
  },
  {
   "cell_type": "code",
   "execution_count": 24,
   "id": "1893af9f",
   "metadata": {},
   "outputs": [],
   "source": [
    "s1= s.copy()"
   ]
  },
  {
   "cell_type": "code",
   "execution_count": 25,
   "id": "fea0a9ce",
   "metadata": {},
   "outputs": [
    {
     "data": {
      "text/plain": [
       "{(23, 45, 34), 12, 199, 22, 34, 44, 45, 56, 58, 66, 'python'}"
      ]
     },
     "execution_count": 25,
     "metadata": {},
     "output_type": "execute_result"
    }
   ],
   "source": [
    "s1"
   ]
  },
  {
   "cell_type": "code",
   "execution_count": 26,
   "id": "a4aae9d6",
   "metadata": {},
   "outputs": [
    {
     "data": {
      "text/plain": [
       "{12, 34, 44, 56, 58}"
      ]
     },
     "execution_count": 26,
     "metadata": {},
     "output_type": "execute_result"
    }
   ],
   "source": [
    "{12,12,44,34,44,58,56,}"
   ]
  },
  {
   "cell_type": "code",
   "execution_count": 27,
   "id": "0ba7f1a4",
   "metadata": {},
   "outputs": [],
   "source": [
    "s.clear()"
   ]
  },
  {
   "cell_type": "code",
   "execution_count": 28,
   "id": "97d0b43f",
   "metadata": {},
   "outputs": [
    {
     "data": {
      "text/plain": [
       "set()"
      ]
     },
     "execution_count": 28,
     "metadata": {},
     "output_type": "execute_result"
    }
   ],
   "source": [
    "s"
   ]
  },
  {
   "cell_type": "code",
   "execution_count": 29,
   "id": "58151457",
   "metadata": {},
   "outputs": [],
   "source": [
    "s={12,23,34,45}"
   ]
  },
  {
   "cell_type": "code",
   "execution_count": 30,
   "id": "520c9354",
   "metadata": {},
   "outputs": [
    {
     "data": {
      "text/plain": [
       "{12, 23, 34, 45}"
      ]
     },
     "execution_count": 30,
     "metadata": {},
     "output_type": "execute_result"
    }
   ],
   "source": [
    "s"
   ]
  },
  {
   "cell_type": "code",
   "execution_count": 31,
   "id": "1a6573fd",
   "metadata": {},
   "outputs": [
    {
     "data": {
      "text/plain": [
       "34"
      ]
     },
     "execution_count": 31,
     "metadata": {},
     "output_type": "execute_result"
    }
   ],
   "source": [
    "s.pop()"
   ]
  },
  {
   "cell_type": "code",
   "execution_count": 32,
   "id": "b2479aeb",
   "metadata": {},
   "outputs": [
    {
     "data": {
      "text/plain": [
       "{12, 23, 45}"
      ]
     },
     "execution_count": 32,
     "metadata": {},
     "output_type": "execute_result"
    }
   ],
   "source": [
    "s"
   ]
  },
  {
   "cell_type": "code",
   "execution_count": 33,
   "id": "b525beb0",
   "metadata": {},
   "outputs": [
    {
     "data": {
      "text/plain": [
       "12"
      ]
     },
     "execution_count": 33,
     "metadata": {},
     "output_type": "execute_result"
    }
   ],
   "source": [
    "s.pop()"
   ]
  },
  {
   "cell_type": "code",
   "execution_count": 34,
   "id": "fe02e167",
   "metadata": {},
   "outputs": [
    {
     "data": {
      "text/plain": [
       "{23, 45}"
      ]
     },
     "execution_count": 34,
     "metadata": {},
     "output_type": "execute_result"
    }
   ],
   "source": [
    "s"
   ]
  },
  {
   "cell_type": "code",
   "execution_count": 35,
   "id": "99d6e8d4",
   "metadata": {},
   "outputs": [],
   "source": [
    "s={12,23,34,45}"
   ]
  },
  {
   "cell_type": "code",
   "execution_count": 36,
   "id": "16d98ff4",
   "metadata": {},
   "outputs": [
    {
     "data": {
      "text/plain": [
       "{12, 23, 34, 45}"
      ]
     },
     "execution_count": 36,
     "metadata": {},
     "output_type": "execute_result"
    }
   ],
   "source": [
    "s"
   ]
  },
  {
   "cell_type": "code",
   "execution_count": 37,
   "id": "5347fe16",
   "metadata": {},
   "outputs": [],
   "source": [
    "s.remove(23)"
   ]
  },
  {
   "cell_type": "code",
   "execution_count": 38,
   "id": "fc4712fe",
   "metadata": {},
   "outputs": [
    {
     "data": {
      "text/plain": [
       "{12, 34, 45}"
      ]
     },
     "execution_count": 38,
     "metadata": {},
     "output_type": "execute_result"
    }
   ],
   "source": [
    "s"
   ]
  },
  {
   "cell_type": "code",
   "execution_count": 39,
   "id": "3e004493",
   "metadata": {},
   "outputs": [
    {
     "data": {
      "text/plain": [
       "{12, 34, 45}"
      ]
     },
     "execution_count": 39,
     "metadata": {},
     "output_type": "execute_result"
    }
   ],
   "source": [
    "s"
   ]
  },
  {
   "cell_type": "code",
   "execution_count": 40,
   "id": "3c889d79",
   "metadata": {},
   "outputs": [],
   "source": [
    "s.discard(34)"
   ]
  },
  {
   "cell_type": "code",
   "execution_count": 41,
   "id": "5b5040c7",
   "metadata": {},
   "outputs": [
    {
     "data": {
      "text/plain": [
       "{12, 45}"
      ]
     },
     "execution_count": 41,
     "metadata": {},
     "output_type": "execute_result"
    }
   ],
   "source": [
    "s"
   ]
  },
  {
   "cell_type": "code",
   "execution_count": 42,
   "id": "f86dd014",
   "metadata": {},
   "outputs": [],
   "source": [
    "s.discard(50)"
   ]
  },
  {
   "cell_type": "code",
   "execution_count": 43,
   "id": "a5846af1",
   "metadata": {},
   "outputs": [],
   "source": [
    "#no error shown"
   ]
  },
  {
   "cell_type": "code",
   "execution_count": 44,
   "id": "550bc413",
   "metadata": {},
   "outputs": [],
   "source": [
    "s='pythonprogramming'"
   ]
  },
  {
   "cell_type": "code",
   "execution_count": 45,
   "id": "4739147d",
   "metadata": {},
   "outputs": [
    {
     "data": {
      "text/plain": [
       "'pythonprogramming'"
      ]
     },
     "execution_count": 45,
     "metadata": {},
     "output_type": "execute_result"
    }
   ],
   "source": [
    "s"
   ]
  },
  {
   "cell_type": "code",
   "execution_count": 46,
   "id": "6b8fa47c",
   "metadata": {},
   "outputs": [
    {
     "data": {
      "text/plain": [
       "{'a', 'g', 'h', 'i', 'm', 'n', 'o', 'p', 'r', 't', 'y'}"
      ]
     },
     "execution_count": 46,
     "metadata": {},
     "output_type": "execute_result"
    }
   ],
   "source": [
    "set(s)"
   ]
  },
  {
   "cell_type": "code",
   "execution_count": 47,
   "id": "8f269cda",
   "metadata": {},
   "outputs": [
    {
     "data": {
      "text/plain": [
       "'gnimmargorpnohtyp'"
      ]
     },
     "execution_count": 47,
     "metadata": {},
     "output_type": "execute_result"
    }
   ],
   "source": [
    "s[::-1]"
   ]
  },
  {
   "cell_type": "code",
   "execution_count": 48,
   "id": "1f15f3f6",
   "metadata": {},
   "outputs": [],
   "source": [
    "s= {10,20,30,45,67}\n",
    "s1= {34,10,30,60}"
   ]
  },
  {
   "cell_type": "code",
   "execution_count": 49,
   "id": "ad492681",
   "metadata": {},
   "outputs": [
    {
     "data": {
      "text/plain": [
       "{10, 30}"
      ]
     },
     "execution_count": 49,
     "metadata": {},
     "output_type": "execute_result"
    }
   ],
   "source": [
    "s.intersection(s1)"
   ]
  },
  {
   "cell_type": "code",
   "execution_count": 50,
   "id": "04c91f0a",
   "metadata": {},
   "outputs": [
    {
     "data": {
      "text/plain": [
       "{10, 20, 30, 34, 45, 60, 67}"
      ]
     },
     "execution_count": 50,
     "metadata": {},
     "output_type": "execute_result"
    }
   ],
   "source": [
    "s1.union(s)"
   ]
  },
  {
   "cell_type": "code",
   "execution_count": 51,
   "id": "d019619e",
   "metadata": {},
   "outputs": [
    {
     "data": {
      "text/plain": [
       "{10, 20, 30, 45, 67}"
      ]
     },
     "execution_count": 51,
     "metadata": {},
     "output_type": "execute_result"
    }
   ],
   "source": [
    "s"
   ]
  },
  {
   "cell_type": "code",
   "execution_count": 52,
   "id": "b8e63a48",
   "metadata": {},
   "outputs": [
    {
     "data": {
      "text/plain": [
       "{10, 30, 34, 60}"
      ]
     },
     "execution_count": 52,
     "metadata": {},
     "output_type": "execute_result"
    }
   ],
   "source": [
    "s1"
   ]
  },
  {
   "cell_type": "code",
   "execution_count": 53,
   "id": "8230fd3c",
   "metadata": {},
   "outputs": [
    {
     "data": {
      "text/plain": [
       "{20, 45, 67}"
      ]
     },
     "execution_count": 53,
     "metadata": {},
     "output_type": "execute_result"
    }
   ],
   "source": [
    "s.difference(s1)"
   ]
  },
  {
   "cell_type": "code",
   "execution_count": 54,
   "id": "2b117787",
   "metadata": {},
   "outputs": [
    {
     "data": {
      "text/plain": [
       "{34, 60}"
      ]
     },
     "execution_count": 54,
     "metadata": {},
     "output_type": "execute_result"
    }
   ],
   "source": [
    "s1.difference(s)"
   ]
  },
  {
   "cell_type": "code",
   "execution_count": 55,
   "id": "6fb6362c",
   "metadata": {},
   "outputs": [
    {
     "data": {
      "text/plain": [
       "{10, 20, 30, 45, 67}"
      ]
     },
     "execution_count": 55,
     "metadata": {},
     "output_type": "execute_result"
    }
   ],
   "source": [
    "s"
   ]
  },
  {
   "cell_type": "code",
   "execution_count": 56,
   "id": "c95c3d57",
   "metadata": {},
   "outputs": [],
   "source": [
    "s= {10,20,30,45,67}\n",
    "s1= {34,10,30,60}"
   ]
  },
  {
   "cell_type": "code",
   "execution_count": 57,
   "id": "3dd3d1ca",
   "metadata": {},
   "outputs": [
    {
     "data": {
      "text/plain": [
       "{20, 34, 45, 60, 67}"
      ]
     },
     "execution_count": 57,
     "metadata": {},
     "output_type": "execute_result"
    }
   ],
   "source": [
    "s.symmetric_difference(s1)"
   ]
  },
  {
   "cell_type": "code",
   "execution_count": 59,
   "id": "0869c9dd",
   "metadata": {},
   "outputs": [],
   "source": [
    "s={\"a\",\"b\",\"c\"}\n",
    "s1={\"c\",\"f\",\"b\",\"d\",\"a\"}"
   ]
  },
  {
   "cell_type": "code",
   "execution_count": 60,
   "id": "f4a01d29",
   "metadata": {},
   "outputs": [
    {
     "data": {
      "text/plain": [
       "True"
      ]
     },
     "execution_count": 60,
     "metadata": {},
     "output_type": "execute_result"
    }
   ],
   "source": [
    "s.issubset(s1)"
   ]
  },
  {
   "cell_type": "code",
   "execution_count": 63,
   "id": "8af56444",
   "metadata": {},
   "outputs": [
    {
     "data": {
      "text/plain": [
       "False"
      ]
     },
     "execution_count": 63,
     "metadata": {},
     "output_type": "execute_result"
    }
   ],
   "source": [
    "s1.issubset(s)"
   ]
  },
  {
   "cell_type": "code",
   "execution_count": null,
   "id": "9883b5b6",
   "metadata": {},
   "outputs": [],
   "source": []
  }
 ],
 "metadata": {
  "kernelspec": {
   "display_name": "Python 3 (ipykernel)",
   "language": "python",
   "name": "python3"
  },
  "language_info": {
   "codemirror_mode": {
    "name": "ipython",
    "version": 3
   },
   "file_extension": ".py",
   "mimetype": "text/x-python",
   "name": "python",
   "nbconvert_exporter": "python",
   "pygments_lexer": "ipython3",
   "version": "3.11.4"
  }
 },
 "nbformat": 4,
 "nbformat_minor": 5
}
